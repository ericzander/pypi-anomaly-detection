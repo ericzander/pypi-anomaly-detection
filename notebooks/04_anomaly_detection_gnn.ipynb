{
 "cells": [
  {
   "cell_type": "markdown",
   "id": "76f83ae7",
   "metadata": {},
   "source": [
    "GNN/GCN anomaly detection"
   ]
  }
 ],
 "metadata": {
  "language_info": {
   "name": "python"
  }
 },
 "nbformat": 4,
 "nbformat_minor": 5
}
