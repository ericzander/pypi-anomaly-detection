{
 "cells": [
  {
   "cell_type": "markdown",
   "id": "99ae7b1c",
   "metadata": {},
   "source": [
    "# 01: Data Exploration"
   ]
  },
  {
   "cell_type": "markdown",
   "id": "0b69a133",
   "metadata": {},
   "source": [
    "Distributions, keyword frequencies, correlations, missing data\n"
   ]
  },
  {
   "cell_type": "code",
   "execution_count": null,
   "id": "1e931d63",
   "metadata": {},
   "outputs": [],
   "source": [
    "import pickle\n",
    "from pathlib import Path\n",
    "\n",
    "import pandas as pd\n",
    "import networkx as nx"
   ]
  },
  {
   "cell_type": "code",
   "execution_count": 41,
   "id": "c64d0c4f",
   "metadata": {},
   "outputs": [
    {
     "name": "stdout",
     "output_type": "stream",
     "text": [
      "Sample edges:\n",
      "     source           target              kind  optional\n",
      "0      cffi        pycparser           runtime     False\n",
      "1  pygments         colorama  windows-terminal      True\n",
      "2      lxml        cssselect         cssselect      True\n",
      "3      lxml  lxml_html_clean        html-clean      True\n",
      "4      lxml         html5lib             html5      True\n",
      "\n",
      "Graph: 559 nodes, 1,151 edges, directed=True\n",
      "\n",
      "Sample node metadata:\n",
      "  aiohappyeyeballs: rank=17, stars=31, forks=15\n",
      "  cffi: rank=20, stars=150, forks=43\n",
      "  pycparser: rank=21, stars=3255, forks=612\n",
      "  pygments: rank=26, stars=1989, forks=727\n",
      "  colorama: rank=24, stars=3664, forks=261\n",
      "\n",
      "Sample edge metadata:\n",
      "  cffi -> pycparser: kind=runtime, optional=False\n",
      "  pygments -> colorama: kind=windows-terminal, optional=True\n",
      "  lxml -> cssselect: kind=cssselect, optional=True\n",
      "  lxml -> lxml_html_clean: kind=html-clean, optional=True\n",
      "  lxml -> html5lib: kind=html5, optional=True\n"
     ]
    }
   ],
   "source": [
    "GRAPH_DATA_DIR = Path(\"../data/graph\")\n",
    "GRAPH_NAME = \"graph_top_n200_20250717\"\n",
    "\n",
    "edges_path = GRAPH_DATA_DIR / f\"{GRAPH_NAME}_edges.csv\"\n",
    "gpickle_path = GRAPH_DATA_DIR / f\"{GRAPH_NAME}.gpickle\"\n",
    "\n",
    "# Load the edges CSV file\n",
    "edges_df = pd.read_csv(edges_path)\n",
    "print(\"Sample edges:\")\n",
    "print(edges_df.head())\n",
    "\n",
    "# Load the graph from the gpickle file\n",
    "with open(gpickle_path, \"rb\") as f:\n",
    "    G = pickle.load(f)\n",
    "\n",
    "print(f\"\\nGraph: {G.number_of_nodes():,} nodes, {G.number_of_edges():,} edges, directed={G.is_directed()}\")\n",
    "\n",
    "# Print concise metadata for the first few nodes\n",
    "print(\"\\nSample node metadata:\")\n",
    "for node, data in list(G.nodes(data=True))[:5]:\n",
    "    summary = \", \".join(f\"{k}={v}\" for k, v in list(data.items())[:3])\n",
    "    print(f\"  {node}: {summary}\")\n",
    "\n",
    "# Print concise metadata for the first few edges\n",
    "print(\"\\nSample edge metadata:\")\n",
    "for u, v, data in list(G.edges(data=True))[:5]:\n",
    "    summary = \", \".join(f\"{k}={v_}\" for k, v_ in data.items())\n",
    "    print(f\"  {u} -> {v}: {summary}\")"
   ]
  },
  {
   "cell_type": "markdown",
   "id": "5c85b61a",
   "metadata": {},
   "source": [
    "### Missing Metadata"
   ]
  },
  {
   "cell_type": "code",
   "execution_count": 49,
   "id": "3c2e48e2",
   "metadata": {},
   "outputs": [
    {
     "name": "stdout",
     "output_type": "stream",
     "text": [
      "\n",
      "Nodes with missing general metadata: 17\n",
      "----------------------------------------\n",
      "  1. build[uv,virtualenv]\n",
      "  2. build[uv]\n",
      "  3. botocore[crt]\n",
      "  4. pyrfc3339\n",
      "  5. coverage[toml]\n",
      "  6. oauthlib[signedtoken]\n",
      "  7. pytest-xdist[psutil]\n",
      "  8. uvicorn[standard]\n",
      "  9. aiobotocore[awscli]\n",
      " 10. aiobotocore[boto3]\n",
      " 11. nox[uv]\n",
      " 12. ray[data,default]\n",
      " 13. pygit2\n",
      " 14. dask[dataframe,test]\n",
      " 15. moto[server]\n",
      " 16. anyio[trio]\n",
      " 17. pyjwt[crypto]\n",
      "----------------------------------------\n"
     ]
    }
   ],
   "source": [
    "def show_nodes_with_missing_metadata(G, max_display=20):\n",
    "    missing_metadata_nodes = [node for node, data in G.nodes(data=True) if data.get('missing_metadata')]\n",
    "\n",
    "    if missing_metadata_nodes:\n",
    "        print(f\"\\nNodes with missing general metadata: {len(missing_metadata_nodes):,}\")\n",
    "        print(\"-\" * 40)\n",
    "        for i, node in enumerate(missing_metadata_nodes[:max_display], 1):\n",
    "            print(f\"{i:3d}. {node}\")\n",
    "        if len(missing_metadata_nodes) > max_display:\n",
    "            print(f\"... and {len(missing_metadata_nodes) - max_display} more.\")\n",
    "        print(\"-\" * 40)\n",
    "    else:\n",
    "        print(\"All nodes have complete general metadata.\")\n",
    "\n",
    "show_nodes_with_missing_metadata(G)"
   ]
  }
 ],
 "metadata": {
  "kernelspec": {
   "display_name": "win",
   "language": "python",
   "name": "python3"
  },
  "language_info": {
   "codemirror_mode": {
    "name": "ipython",
    "version": 3
   },
   "file_extension": ".py",
   "mimetype": "text/x-python",
   "name": "python",
   "nbconvert_exporter": "python",
   "pygments_lexer": "ipython3",
   "version": "3.12.7"
  }
 },
 "nbformat": 4,
 "nbformat_minor": 5
}
